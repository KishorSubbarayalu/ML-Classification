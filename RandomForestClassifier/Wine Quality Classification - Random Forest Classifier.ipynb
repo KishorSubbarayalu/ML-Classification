{
 "cells": [
  {
   "cell_type": "code",
   "execution_count": 1,
   "id": "73b78675",
   "metadata": {},
   "outputs": [],
   "source": [
    "import pandas as pd\n",
    "import numpy as np\n",
    "import os\n",
    "\n",
    "from sklearn.model_selection import train_test_split, GridSearchCV\n",
    "from sklearn.ensemble import RandomForestClassifier\n",
    "from sklearn.metrics import classification_report, confusion_matrix, accuracy_score, classification_report\n",
    "\n",
    "from joblib import dump"
   ]
  },
  {
   "cell_type": "code",
   "execution_count": 2,
   "id": "94560de7",
   "metadata": {},
   "outputs": [],
   "source": [
    "cwd = os.getcwd()"
   ]
  },
  {
   "cell_type": "code",
   "execution_count": 3,
   "id": "3a4e5f9c",
   "metadata": {},
   "outputs": [],
   "source": [
    "ip_filepath = os.path.dirname(cwd)+'\\\\WineQT.csv'"
   ]
  },
  {
   "cell_type": "code",
   "execution_count": 4,
   "id": "5e4d8c02",
   "metadata": {},
   "outputs": [],
   "source": [
    "wq_df = pd.read_csv(ip_filepath)"
   ]
  },
  {
   "cell_type": "code",
   "execution_count": 5,
   "id": "59a9f5eb",
   "metadata": {},
   "outputs": [
    {
     "name": "stdout",
     "output_type": "stream",
     "text": [
      "   fixed acidity  volatile acidity  citric acid  residual sugar  chlorides  \\\n",
      "0            7.4              0.70         0.00             1.9      0.076   \n",
      "1            7.8              0.88         0.00             2.6      0.098   \n",
      "2            7.8              0.76         0.04             2.3      0.092   \n",
      "3           11.2              0.28         0.56             1.9      0.075   \n",
      "4            7.4              0.70         0.00             1.9      0.076   \n",
      "\n",
      "   free sulfur dioxide  total sulfur dioxide  density    pH  sulphates  \\\n",
      "0                 11.0                  34.0   0.9978  3.51       0.56   \n",
      "1                 25.0                  67.0   0.9968  3.20       0.68   \n",
      "2                 15.0                  54.0   0.9970  3.26       0.65   \n",
      "3                 17.0                  60.0   0.9980  3.16       0.58   \n",
      "4                 11.0                  34.0   0.9978  3.51       0.56   \n",
      "\n",
      "   alcohol  quality  Id  \n",
      "0      9.4        5   0  \n",
      "1      9.8        5   1  \n",
      "2      9.8        5   2  \n",
      "3      9.8        6   3  \n",
      "4      9.4        5   4  \n"
     ]
    }
   ],
   "source": [
    "print(wq_df.head())"
   ]
  },
  {
   "cell_type": "code",
   "execution_count": 6,
   "id": "ecb45df6",
   "metadata": {},
   "outputs": [],
   "source": [
    "wq = wq_df.copy()"
   ]
  },
  {
   "cell_type": "code",
   "execution_count": 7,
   "id": "b1e69ca1",
   "metadata": {},
   "outputs": [
    {
     "name": "stdout",
     "output_type": "stream",
     "text": [
      "Dropped the Id column as it is an index column, and the df has already possess an index column\n"
     ]
    }
   ],
   "source": [
    "wq.drop('Id',axis=1, inplace=True)\n",
    "print(\"Dropped the Id column as it is an index column, and the df has already possess an index column\")"
   ]
  },
  {
   "cell_type": "code",
   "execution_count": 8,
   "id": "fa2ccf53",
   "metadata": {},
   "outputs": [],
   "source": [
    "def replace_spaces(df):\n",
    "    return df.columns.str.replace(\" \",\"_\")\n",
    "def title_name(df):\n",
    "    return df.columns.str.title()"
   ]
  },
  {
   "cell_type": "code",
   "execution_count": 9,
   "id": "f52ff715",
   "metadata": {},
   "outputs": [],
   "source": [
    "wq.columns = replace_spaces(wq)\n",
    "wq.columns = title_name(wq)"
   ]
  },
  {
   "cell_type": "code",
   "execution_count": 10,
   "id": "7cb603b5",
   "metadata": {},
   "outputs": [
    {
     "name": "stdout",
     "output_type": "stream",
     "text": [
      "Index(['Fixed_Acidity', 'Volatile_Acidity', 'Citric_Acid', 'Residual_Sugar',\n",
      "       'Chlorides', 'Free_Sulfur_Dioxide', 'Total_Sulfur_Dioxide', 'Density',\n",
      "       'Ph', 'Sulphates', 'Alcohol', 'Quality'],\n",
      "      dtype='object')\n"
     ]
    }
   ],
   "source": [
    "print(wq.columns)"
   ]
  },
  {
   "cell_type": "code",
   "execution_count": 11,
   "id": "a2728e89",
   "metadata": {},
   "outputs": [],
   "source": [
    "target = wq.loc[:,'Quality']\n",
    "classifiers = wq.loc[:, wq.columns != 'Quality']"
   ]
  },
  {
   "cell_type": "markdown",
   "id": "c7100f59",
   "metadata": {},
   "source": [
    "#### Split train and test"
   ]
  },
  {
   "cell_type": "code",
   "execution_count": 12,
   "id": "52d78f08",
   "metadata": {},
   "outputs": [
    {
     "name": "stdout",
     "output_type": "stream",
     "text": [
      "Shape of the f_train: (914, 11)\n",
      "Shape of the f_test: (229, 11)\n",
      "Shape of the t_train: (914,)\n",
      "Shape of the t_test: (229,)\n"
     ]
    }
   ],
   "source": [
    "f_train, f_test, t_train, t_test = train_test_split(classifiers, target, test_size = 0.2, random_state = 101)\n",
    "print(f'Shape of the f_train: {f_train.shape}')\n",
    "print(f'Shape of the f_test: {f_test.shape}')\n",
    "print(f'Shape of the t_train: {t_train.shape}')\n",
    "print(f'Shape of the t_test: {t_test.shape}')"
   ]
  },
  {
   "cell_type": "markdown",
   "id": "5d18436c",
   "metadata": {},
   "source": [
    "#### Model Bulding and training"
   ]
  },
  {
   "cell_type": "code",
   "execution_count": 13,
   "id": "2509c0b8",
   "metadata": {},
   "outputs": [],
   "source": [
    "# Model Instantiation:\n",
    "rfc = RandomForestClassifier(random_state = 101)\n",
    "\n",
    "# Training the model:\n",
    "rfc_mod = rfc.fit(f_train, t_train)\n",
    "\n",
    "# Prediction\n",
    "rfc_pred = rfc_mod.predict(f_test)"
   ]
  },
  {
   "cell_type": "code",
   "execution_count": 14,
   "id": "8cf299c3",
   "metadata": {},
   "outputs": [
    {
     "name": "stdout",
     "output_type": "stream",
     "text": [
      "Confusion Matrix of the Decision Tree Model: \n",
      " [[ 0  0  1  0  0  0]\n",
      " [ 0  0  4  2  0  0]\n",
      " [ 0  0 79 23  0  0]\n",
      " [ 0  0 18 66  6  1]\n",
      " [ 0  0  1 14 12  0]\n",
      " [ 0  0  0  0  1  1]]\n",
      "Accuracy score of the Decision Tree Model: \n",
      "69.0 %\n"
     ]
    }
   ],
   "source": [
    "print(\"Confusion Matrix of the Decision Tree Model: \\n {}\".format(confusion_matrix(t_test, rfc_pred)))\n",
    "print(\"Accuracy score of the Decision Tree Model: \\n{} %\".format(round(accuracy_score(t_test, rfc_pred)*100,2)))"
   ]
  },
  {
   "cell_type": "markdown",
   "id": "1ac42246",
   "metadata": {},
   "source": [
    "#### Hyperparameter Tuning"
   ]
  },
  {
   "cell_type": "code",
   "execution_count": 15,
   "id": "64325e84",
   "metadata": {},
   "outputs": [],
   "source": [
    "rfc = RandomForestClassifier(random_state = 101)"
   ]
  },
  {
   "cell_type": "code",
   "execution_count": 16,
   "id": "2ba9f71a",
   "metadata": {},
   "outputs": [],
   "source": [
    "params = {\n",
    "    'bootstrap': [True],\n",
    "    'max_depth': [5, 8, 10, 15],\n",
    "    'max_features': [2, 3, 4, 5, 6],\n",
    "    'min_samples_leaf': [3, 4, 5],\n",
    "    'min_samples_split': [8, 10, 12],\n",
    "    'n_estimators': [10, 20, 30, 50]\n",
    "}"
   ]
  },
  {
   "cell_type": "code",
   "execution_count": 17,
   "id": "7953b627",
   "metadata": {},
   "outputs": [],
   "source": [
    "grid_search = GridSearchCV(estimator=rfc, \n",
    "                           param_grid=params, \n",
    "                           cv=4, n_jobs=-1, verbose=2, scoring = \"accuracy\")"
   ]
  },
  {
   "cell_type": "code",
   "execution_count": 18,
   "id": "ed069c6e",
   "metadata": {},
   "outputs": [
    {
     "name": "stdout",
     "output_type": "stream",
     "text": [
      "Fitting 4 folds for each of 720 candidates, totalling 2880 fits\n",
      "Wall time: 1min 56s\n"
     ]
    },
    {
     "data": {
      "text/plain": [
       "GridSearchCV(cv=4, estimator=RandomForestClassifier(random_state=101),\n",
       "             n_jobs=-1,\n",
       "             param_grid={'bootstrap': [True], 'max_depth': [5, 8, 10, 15],\n",
       "                         'max_features': [2, 3, 4, 5, 6],\n",
       "                         'min_samples_leaf': [3, 4, 5],\n",
       "                         'min_samples_split': [8, 10, 12],\n",
       "                         'n_estimators': [10, 20, 30, 50]},\n",
       "             scoring='accuracy', verbose=2)"
      ]
     },
     "execution_count": 18,
     "metadata": {},
     "output_type": "execute_result"
    }
   ],
   "source": [
    "%%time\n",
    "grid_search.fit(f_train, t_train)"
   ]
  },
  {
   "cell_type": "code",
   "execution_count": 19,
   "id": "7584ac06",
   "metadata": {},
   "outputs": [
    {
     "data": {
      "text/plain": [
       "RandomForestClassifier(max_depth=15, max_features=3, min_samples_leaf=3,\n",
       "                       min_samples_split=8, n_estimators=30, random_state=101)"
      ]
     },
     "execution_count": 19,
     "metadata": {},
     "output_type": "execute_result"
    }
   ],
   "source": [
    "grid_search.best_estimator_"
   ]
  },
  {
   "cell_type": "code",
   "execution_count": 20,
   "id": "bc68a4dc",
   "metadata": {},
   "outputs": [],
   "source": [
    "rfc = RandomForestClassifier(max_depth=15, max_features=3, min_samples_leaf=3,\n",
    "                       min_samples_split=8, n_estimators=30, random_state=101)\n",
    "\n",
    "# Training the model:\n",
    "rfc_mod = rfc.fit(f_train, t_train)\n",
    "\n",
    "# Prediction\n",
    "rfc_pred = rfc_mod.predict(f_test)"
   ]
  },
  {
   "cell_type": "code",
   "execution_count": 21,
   "id": "10436bfa",
   "metadata": {},
   "outputs": [
    {
     "name": "stdout",
     "output_type": "stream",
     "text": [
      "Confusion Matrix of the Decision Tree Model: \n",
      " [[ 0  0  1  0  0  0]\n",
      " [ 0  0  4  2  0  0]\n",
      " [ 0  0 77 25  0  0]\n",
      " [ 0  0 17 68  6  0]\n",
      " [ 0  0  2 12 13  0]\n",
      " [ 0  0  0  2  0  0]]\n",
      "Accuracy score of the Decision Tree Model: \n",
      "69.0 %\n"
     ]
    }
   ],
   "source": [
    "print(\"Confusion Matrix of the Decision Tree Model: \\n {}\".format(confusion_matrix(t_test, rfc_pred)))\n",
    "print(\"Accuracy score of the Decision Tree Model: \\n{} %\".format(round(accuracy_score(t_test, rfc_pred)*100,2)))"
   ]
  },
  {
   "cell_type": "markdown",
   "id": "6879c343",
   "metadata": {},
   "source": [
    "#### There is no much improvement in the accuracy after hyperparameter tuning, however it performs well when compared to decision tree classifier"
   ]
  },
  {
   "cell_type": "markdown",
   "id": "caaaddc4",
   "metadata": {},
   "source": [
    "### Binary Classification"
   ]
  },
  {
   "cell_type": "code",
   "execution_count": 22,
   "id": "f9521ca1",
   "metadata": {},
   "outputs": [],
   "source": [
    "target_binary = target.apply(lambda x: 1 if x>= 6 else 0)"
   ]
  },
  {
   "cell_type": "code",
   "execution_count": 23,
   "id": "f2eb3084",
   "metadata": {},
   "outputs": [],
   "source": [
    "f_train, f_test, t_train, t_test = train_test_split(classifiers, target_binary, test_size = 0.2, random_state = 101)"
   ]
  },
  {
   "cell_type": "code",
   "execution_count": 24,
   "id": "342313f8",
   "metadata": {},
   "outputs": [],
   "source": [
    "# Model Instantiation:\n",
    "rfc = RandomForestClassifier(random_state = 101)\n",
    "\n",
    "# Training the model:\n",
    "rfc_mod = rfc.fit(f_train, t_train)\n",
    "\n",
    "# Prediction\n",
    "rfc_pred = rfc_mod.predict(f_test)"
   ]
  },
  {
   "cell_type": "code",
   "execution_count": 25,
   "id": "1bfccfea",
   "metadata": {},
   "outputs": [
    {
     "name": "stdout",
     "output_type": "stream",
     "text": [
      "Confusion Matrix of the Decision Tree Model: \n",
      " [[85 24]\n",
      " [22 98]]\n",
      "Accuracy score of the Decision Tree Model: \n",
      "79.91 %\n"
     ]
    }
   ],
   "source": [
    "print(\"Confusion Matrix of the Decision Tree Model: \\n {}\".format(confusion_matrix(t_test, rfc_pred)))\n",
    "print(\"Accuracy score of the Decision Tree Model: \\n{} %\".format(round(accuracy_score(t_test, rfc_pred)*100,2)))"
   ]
  },
  {
   "cell_type": "code",
   "execution_count": 26,
   "id": "82e94932",
   "metadata": {},
   "outputs": [],
   "source": [
    "rfc = RandomForestClassifier(random_state = 101)\n",
    "params = {\n",
    "    'bootstrap': [True],\n",
    "    'max_depth': [5, 8, 10, 15],\n",
    "    'max_features': [2, 3, 4, 5, 6],\n",
    "    'min_samples_leaf': [3, 4, 5],\n",
    "    'min_samples_split': [8, 10, 12],\n",
    "    'n_estimators': [10, 20, 30, 50]\n",
    "}\n",
    "grid_search = GridSearchCV(estimator=rfc, \n",
    "                           param_grid=params, \n",
    "                           cv=4, n_jobs=-1, verbose=2, scoring = \"accuracy\")"
   ]
  },
  {
   "cell_type": "code",
   "execution_count": 27,
   "id": "4baf423e",
   "metadata": {},
   "outputs": [
    {
     "name": "stdout",
     "output_type": "stream",
     "text": [
      "Fitting 4 folds for each of 720 candidates, totalling 2880 fits\n",
      "Wall time: 2min 17s\n"
     ]
    },
    {
     "data": {
      "text/plain": [
       "GridSearchCV(cv=4, estimator=RandomForestClassifier(random_state=101),\n",
       "             n_jobs=-1,\n",
       "             param_grid={'bootstrap': [True], 'max_depth': [5, 8, 10, 15],\n",
       "                         'max_features': [2, 3, 4, 5, 6],\n",
       "                         'min_samples_leaf': [3, 4, 5],\n",
       "                         'min_samples_split': [8, 10, 12],\n",
       "                         'n_estimators': [10, 20, 30, 50]},\n",
       "             scoring='accuracy', verbose=2)"
      ]
     },
     "execution_count": 27,
     "metadata": {},
     "output_type": "execute_result"
    }
   ],
   "source": [
    "%%time\n",
    "grid_search.fit(f_train, t_train)"
   ]
  },
  {
   "cell_type": "code",
   "execution_count": 28,
   "id": "eea8ce1f",
   "metadata": {},
   "outputs": [
    {
     "data": {
      "text/plain": [
       "RandomForestClassifier(max_depth=15, max_features=6, min_samples_leaf=5,\n",
       "                       min_samples_split=8, n_estimators=20, random_state=101)"
      ]
     },
     "execution_count": 28,
     "metadata": {},
     "output_type": "execute_result"
    }
   ],
   "source": [
    "grid_search.best_estimator_"
   ]
  },
  {
   "cell_type": "code",
   "execution_count": 29,
   "id": "6cb2e46e",
   "metadata": {},
   "outputs": [],
   "source": [
    "rfc = RandomForestClassifier(max_depth=15, max_features=6, min_samples_leaf=5,\n",
    "                       min_samples_split=8, n_estimators=20, random_state=101)\n",
    "\n",
    "# Training the model:\n",
    "rfc_mod = rfc.fit(f_train, t_train)\n",
    "\n",
    "# Prediction\n",
    "rfc_pred = rfc_mod.predict(f_test)"
   ]
  },
  {
   "cell_type": "code",
   "execution_count": 30,
   "id": "cee0ed2d",
   "metadata": {},
   "outputs": [
    {
     "name": "stdout",
     "output_type": "stream",
     "text": [
      "Confusion Matrix of the Decision Tree Model: \n",
      " [[ 83  26]\n",
      " [ 19 101]]\n",
      "Accuracy score of the Decision Tree Model: \n",
      "80.35 %\n"
     ]
    }
   ],
   "source": [
    "print(\"Confusion Matrix of the Decision Tree Model: \\n {}\".format(confusion_matrix(t_test, rfc_pred)))\n",
    "print(\"Accuracy score of the Decision Tree Model: \\n{} %\".format(round(accuracy_score(t_test, rfc_pred)*100,2)))"
   ]
  },
  {
   "cell_type": "markdown",
   "id": "7a0c5dc3",
   "metadata": {},
   "source": [
    "#### The model performance improved after hyperparameter tuning"
   ]
  },
  {
   "cell_type": "code",
   "execution_count": 32,
   "id": "180b6fbc",
   "metadata": {},
   "outputs": [
    {
     "data": {
      "text/plain": [
       "['wineclassification.joblib']"
      ]
     },
     "execution_count": 32,
     "metadata": {},
     "output_type": "execute_result"
    }
   ],
   "source": [
    "dump(rfc_mod, 'wineclassification.joblib')"
   ]
  }
 ],
 "metadata": {
  "kernelspec": {
   "display_name": "Python 3",
   "language": "python",
   "name": "python3"
  },
  "language_info": {
   "codemirror_mode": {
    "name": "ipython",
    "version": 3
   },
   "file_extension": ".py",
   "mimetype": "text/x-python",
   "name": "python",
   "nbconvert_exporter": "python",
   "pygments_lexer": "ipython3",
   "version": "3.8.8"
  }
 },
 "nbformat": 4,
 "nbformat_minor": 5
}
